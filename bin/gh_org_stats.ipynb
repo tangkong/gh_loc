{
 "cells": [
  {
   "cell_type": "code",
   "execution_count": 27,
   "metadata": {},
   "outputs": [],
   "source": [
    "import datetime\n",
    "import pandas as pd\n",
    "from github import Github\n",
    "\n",
    "from gh_helpers import gh_token"
   ]
  },
  {
   "cell_type": "code",
   "execution_count": 13,
   "metadata": {},
   "outputs": [],
   "source": [
    "token = gh_token()\n",
    "org = Github(token).get_organization('pcdshub')\n",
    "repo = org.get_repo('atef')"
   ]
  },
  {
   "cell_type": "code",
   "execution_count": 9,
   "metadata": {},
   "outputs": [],
   "source": [
    "# can get all repos in org\n",
    "for repo in org.get_repos():\n",
    "    break"
   ]
  },
  {
   "cell_type": "code",
   "execution_count": 110,
   "metadata": {},
   "outputs": [],
   "source": [
    "# get repo activity\n",
    "# PR added / PR closed / Total PR (change from last period)\n",
    "# Issue added / Issue closed / Total Issues (change from last period)\n",
    "\n",
    "\n",
    "today = datetime.datetime.now()\n",
    "period_start = today - datetime.timedelta(days=7)\n",
    "\n",
    "def in_period_mask(series: pd.Series, start: datetime.datetime, end: datetime.datetime):\n",
    "    return (start < series) & (series < end)\n",
    "\n",
    "def summarize_period(data, start, end, print_results=False):\n",
    "    \"\"\"\n",
    "    Summarize the some key metrics for data inside the period (start, end)\n",
    "    Assumes each item in ``data`` has attrs: 'number', 'state', 'created_at', 'closed_at'\n",
    "    \"\"\"\n",
    "    # construct dataframe\n",
    "    info = {'number': [], 'state': [], 'created_at': [], 'closed_at': []}\n",
    "    for item in data:\n",
    "        info['number'].append(item.number)\n",
    "        info['state'].append(item.state)\n",
    "        info['created_at'].append(item.created_at)\n",
    "        info['closed_at'].append(item.closed_at)\n",
    "\n",
    "    df = pd.DataFrame(data=info)\n",
    "\n",
    "    # find issues created inside the period\n",
    "    new_in_period = df[in_period_mask(df['created_at'], start, end)]\n",
    "\n",
    "    # find issues closed inside the period\n",
    "    closed_in_period = df[in_period_mask(df['closed_at'], start, end)]\n",
    "\n",
    "    if print_results:\n",
    "        print(f\"opened in last 7 days: {len(new_in_period)}\")\n",
    "        print(f\"closed in last 7 days: {len(closed_in_period)}\")\n",
    "        print(f\"total open: {len(df[df['state'] == 'open'])}\")\n",
    "\n",
    "    return len(new_in_period), len(closed_in_period)\n",
    "\n",
    "def summarize_commit_stats(data, start, end, print_results=False):\n",
    "    info = {'commit_sha': [], 'author_date': [], 'additions': [],\n",
    "            'deletions': [], 'total': []}\n",
    "    \n",
    "    for cm in data:\n",
    "        info['commit_sha'].append(cm.sha[:10])\n",
    "        info['author_date'].append(cm.commit.author.date)\n",
    "        info['additions'].append(cm.stats.additions)\n",
    "        info['deletions'].append(cm.stats.deletions)\n",
    "        info['total'].append(cm.stats.total)\n",
    "\n",
    "    commit_df = pd.DataFrame(data=info)\n",
    "\n",
    "    return commit_df[in_period_mask(commit_df['author_date'], start, end)]\n"
   ]
  },
  {
   "attachments": {},
   "cell_type": "markdown",
   "metadata": {},
   "source": [
    "# Show me the stats"
   ]
  },
  {
   "cell_type": "code",
   "execution_count": 114,
   "metadata": {},
   "outputs": [
    {
     "name": "stdout",
     "output_type": "stream",
     "text": [
      "processing ami-user-library...summary.......ys.....\r"
     ]
    }
   ],
   "source": [
    "# gather these stats for all the repos\n",
    "data = {'repo': [], 'issues_opened': [], 'issues_closed': [], 'total_issues': [],\n",
    "        'pulls_opened': [], 'pulls_closed': [], 'total_pulls': [],\n",
    "        'n_commits': [], 'additions': [], 'deletions': [], 'total_changes': []}\n",
    "\n",
    "start_period = today - datetime.timedelta(weeks=8)\n",
    "\n",
    "for repo in org.get_repos():\n",
    "    print('', end='\\r')\n",
    "    print(f'processing {repo.name}...', end=\"\\r\")\n",
    "    opened_iss, closed_iss = summarize_period(repo.get_issues(since=start_period), start_period, today)\n",
    "\n",
    "    opened_pr, closed_pr = summarize_period(repo.get_pulls(), start_period, today)\n",
    "    data['repo'].append(repo.name)\n",
    "    data['issues_opened'].append(opened_iss)\n",
    "    data['issues_closed'].append(closed_iss)\n",
    "    data['pulls_opened'].append(opened_pr)\n",
    "    data['pulls_closed'].append(closed_pr)\n",
    "    data['total_pulls'].append(len(list(repo.get_pulls(state='open'))))\n",
    "    data['total_issues'].append(len(list(repo.get_issues(state='open'))))\n",
    "\n",
    "    # commit stats\n",
    "    commit_df = summarize_commit_stats(repo.get_commits(since=start_period), start_period, today)\n",
    "\n",
    "    data['n_commits'].append(len(commit_df))\n",
    "    data['additions'].append(commit_df['additions'].sum())\n",
    "    data['deletions'].append(commit_df['deletions'].sum())\n",
    "    data['total_changes'].append(commit_df['total'].sum())\n",
    "\n",
    "stats_df = pd.DataFrame(data=data)"
   ]
  },
  {
   "cell_type": "code",
   "execution_count": 117,
   "metadata": {},
   "outputs": [],
   "source": [
    "stats_df.to_csv('/Users/roberttk/gh_loc/data/repo_stats.csv')"
   ]
  }
 ],
 "metadata": {
  "kernelspec": {
   "display_name": "loc",
   "language": "python",
   "name": "python3"
  },
  "language_info": {
   "codemirror_mode": {
    "name": "ipython",
    "version": 3
   },
   "file_extension": ".py",
   "mimetype": "text/x-python",
   "name": "python",
   "nbconvert_exporter": "python",
   "pygments_lexer": "ipython3",
   "version": "3.11.3"
  },
  "orig_nbformat": 4
 },
 "nbformat": 4,
 "nbformat_minor": 2
}
