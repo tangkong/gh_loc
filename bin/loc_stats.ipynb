{
 "cells": [
  {
   "cell_type": "code",
   "execution_count": 1,
   "metadata": {},
   "outputs": [],
   "source": [
    "from pathlib import Path\n",
    "import pandas as pd\n",
    "import json\n",
    "import matplotlib.pyplot as plt"
   ]
  },
  {
   "attachments": {},
   "cell_type": "markdown",
   "metadata": {},
   "source": [
    "# Create the dataframe"
   ]
  },
  {
   "cell_type": "code",
   "execution_count": 2,
   "metadata": {},
   "outputs": [],
   "source": [
    "data_path = Path('/Users/roberttk/gh_loc/data/repo_loc_info_230423.json')\n",
    "with open(data_path, 'r') as f:\n",
    "    data = json.load(f)\n",
    "\n",
    "lang_set = set()\n",
    "for repo in data.values():\n",
    "    for lang in repo:\n",
    "        if not isinstance(lang, dict):\n",
    "            continue\n",
    "        lang_set.add(lang['language'])\n",
    "\n",
    "lang_detail_columns = set(lang.keys())\n",
    "lang_detail_columns.remove('language')\n",
    "\n",
    "index = pd.MultiIndex.from_product([lang_set, lang_detail_columns],names=['language', 'info'])\n",
    "df = pd.DataFrame(index=index, columns=data.keys())\n",
    "\n",
    "# fill out information\n",
    "for reponame, info in data.items():\n",
    "    for data_dict in info:\n",
    "        if isinstance(data_dict, str):\n",
    "            continue\n",
    "        for data_key, value in data_dict.items():\n",
    "            if data_key == 'language':\n",
    "                continue\n",
    "\n",
    "            df.loc[(data_dict['language'], data_key), reponame] = value"
   ]
  },
  {
   "cell_type": "code",
   "execution_count": 3,
   "metadata": {},
   "outputs": [
    {
     "data": {
      "text/html": [
       "<div>\n",
       "<style scoped>\n",
       "    .dataframe tbody tr th:only-of-type {\n",
       "        vertical-align: middle;\n",
       "    }\n",
       "\n",
       "    .dataframe tbody tr th {\n",
       "        vertical-align: top;\n",
       "    }\n",
       "\n",
       "    .dataframe thead th {\n",
       "        text-align: right;\n",
       "    }\n",
       "</style>\n",
       "<table border=\"1\" class=\"dataframe\">\n",
       "  <thead>\n",
       "    <tr style=\"text-align: right;\">\n",
       "      <th></th>\n",
       "      <th></th>\n",
       "      <th>all-deployed-iocs</th>\n",
       "      <th>epics-config</th>\n",
       "      <th>lcls-twincat-motion</th>\n",
       "      <th>atef</th>\n",
       "      <th>nabs</th>\n",
       "      <th>tc-release</th>\n",
       "      <th>lucid</th>\n",
       "      <th>pcdsdevices</th>\n",
       "      <th>lightpath</th>\n",
       "      <th>pytmc</th>\n",
       "      <th>...</th>\n",
       "      <th>sxr</th>\n",
       "      <th>TcStaticAnalysisLoader</th>\n",
       "      <th>pymps</th>\n",
       "      <th>sim_beamline</th>\n",
       "      <th>SDS_test</th>\n",
       "      <th>time_zero</th>\n",
       "      <th>QDarkStyleSheet</th>\n",
       "      <th>skywalker-docs</th>\n",
       "      <th>SebastianSlackBot</th>\n",
       "      <th>mfxRobotVal3</th>\n",
       "    </tr>\n",
       "    <tr>\n",
       "      <th>language</th>\n",
       "      <th>info</th>\n",
       "      <th></th>\n",
       "      <th></th>\n",
       "      <th></th>\n",
       "      <th></th>\n",
       "      <th></th>\n",
       "      <th></th>\n",
       "      <th></th>\n",
       "      <th></th>\n",
       "      <th></th>\n",
       "      <th></th>\n",
       "      <th></th>\n",
       "      <th></th>\n",
       "      <th></th>\n",
       "      <th></th>\n",
       "      <th></th>\n",
       "      <th></th>\n",
       "      <th></th>\n",
       "      <th></th>\n",
       "      <th></th>\n",
       "      <th></th>\n",
       "      <th></th>\n",
       "    </tr>\n",
       "  </thead>\n",
       "  <tbody>\n",
       "    <tr>\n",
       "      <th rowspan=\"5\" valign=\"top\">Python</th>\n",
       "      <th>blanks</th>\n",
       "      <td>9</td>\n",
       "      <td>15</td>\n",
       "      <td>7</td>\n",
       "      <td>1043</td>\n",
       "      <td>247</td>\n",
       "      <td>40</td>\n",
       "      <td>215</td>\n",
       "      <td>2978</td>\n",
       "      <td>425</td>\n",
       "      <td>396</td>\n",
       "      <td>...</td>\n",
       "      <td>268</td>\n",
       "      <td>NaN</td>\n",
       "      <td>NaN</td>\n",
       "      <td>68</td>\n",
       "      <td>37</td>\n",
       "      <td>NaN</td>\n",
       "      <td>363</td>\n",
       "      <td>NaN</td>\n",
       "      <td>33</td>\n",
       "      <td>NaN</td>\n",
       "    </tr>\n",
       "    <tr>\n",
       "      <th>comments</th>\n",
       "      <td>2</td>\n",
       "      <td>0</td>\n",
       "      <td>1</td>\n",
       "      <td>1822</td>\n",
       "      <td>491</td>\n",
       "      <td>45</td>\n",
       "      <td>276</td>\n",
       "      <td>3470</td>\n",
       "      <td>837</td>\n",
       "      <td>449</td>\n",
       "      <td>...</td>\n",
       "      <td>505</td>\n",
       "      <td>NaN</td>\n",
       "      <td>NaN</td>\n",
       "      <td>119</td>\n",
       "      <td>49</td>\n",
       "      <td>NaN</td>\n",
       "      <td>484</td>\n",
       "      <td>NaN</td>\n",
       "      <td>43</td>\n",
       "      <td>NaN</td>\n",
       "    </tr>\n",
       "    <tr>\n",
       "      <th>linesOfCode</th>\n",
       "      <td>99</td>\n",
       "      <td>30</td>\n",
       "      <td>26</td>\n",
       "      <td>16174</td>\n",
       "      <td>3538</td>\n",
       "      <td>523</td>\n",
       "      <td>1953</td>\n",
       "      <td>35966</td>\n",
       "      <td>2932</td>\n",
       "      <td>10211</td>\n",
       "      <td>...</td>\n",
       "      <td>1995</td>\n",
       "      <td>NaN</td>\n",
       "      <td>NaN</td>\n",
       "      <td>708</td>\n",
       "      <td>855</td>\n",
       "      <td>NaN</td>\n",
       "      <td>19048</td>\n",
       "      <td>NaN</td>\n",
       "      <td>294</td>\n",
       "      <td>NaN</td>\n",
       "    </tr>\n",
       "    <tr>\n",
       "      <th>lines</th>\n",
       "      <td>110</td>\n",
       "      <td>45</td>\n",
       "      <td>34</td>\n",
       "      <td>19039</td>\n",
       "      <td>4276</td>\n",
       "      <td>608</td>\n",
       "      <td>2444</td>\n",
       "      <td>42414</td>\n",
       "      <td>4194</td>\n",
       "      <td>11056</td>\n",
       "      <td>...</td>\n",
       "      <td>2768</td>\n",
       "      <td>NaN</td>\n",
       "      <td>NaN</td>\n",
       "      <td>895</td>\n",
       "      <td>941</td>\n",
       "      <td>NaN</td>\n",
       "      <td>19895</td>\n",
       "      <td>NaN</td>\n",
       "      <td>370</td>\n",
       "      <td>NaN</td>\n",
       "    </tr>\n",
       "    <tr>\n",
       "      <th>files</th>\n",
       "      <td>2</td>\n",
       "      <td>5</td>\n",
       "      <td>1</td>\n",
       "      <td>58</td>\n",
       "      <td>22</td>\n",
       "      <td>5</td>\n",
       "      <td>14</td>\n",
       "      <td>148</td>\n",
       "      <td>24</td>\n",
       "      <td>40</td>\n",
       "      <td>...</td>\n",
       "      <td>31</td>\n",
       "      <td>NaN</td>\n",
       "      <td>NaN</td>\n",
       "      <td>8</td>\n",
       "      <td>3</td>\n",
       "      <td>NaN</td>\n",
       "      <td>58</td>\n",
       "      <td>NaN</td>\n",
       "      <td>3</td>\n",
       "      <td>NaN</td>\n",
       "    </tr>\n",
       "  </tbody>\n",
       "</table>\n",
       "<p>5 rows × 293 columns</p>\n",
       "</div>"
      ],
      "text/plain": [
       "                     all-deployed-iocs epics-config lcls-twincat-motion   \n",
       "language info                                                             \n",
       "Python   blanks                      9           15                   7  \\\n",
       "         comments                    2            0                   1   \n",
       "         linesOfCode                99           30                  26   \n",
       "         lines                     110           45                  34   \n",
       "         files                       2            5                   1   \n",
       "\n",
       "                       atef  nabs tc-release lucid pcdsdevices lightpath   \n",
       "language info                                                              \n",
       "Python   blanks        1043   247         40   215        2978       425  \\\n",
       "         comments      1822   491         45   276        3470       837   \n",
       "         linesOfCode  16174  3538        523  1953       35966      2932   \n",
       "         lines        19039  4276        608  2444       42414      4194   \n",
       "         files           58    22          5    14         148        24   \n",
       "\n",
       "                      pytmc  ...   sxr TcStaticAnalysisLoader pymps   \n",
       "language info                ...                                      \n",
       "Python   blanks         396  ...   268                    NaN   NaN  \\\n",
       "         comments       449  ...   505                    NaN   NaN   \n",
       "         linesOfCode  10211  ...  1995                    NaN   NaN   \n",
       "         lines        11056  ...  2768                    NaN   NaN   \n",
       "         files           40  ...    31                    NaN   NaN   \n",
       "\n",
       "                     sim_beamline SDS_test time_zero QDarkStyleSheet   \n",
       "language info                                                          \n",
       "Python   blanks                68       37       NaN             363  \\\n",
       "         comments             119       49       NaN             484   \n",
       "         linesOfCode          708      855       NaN           19048   \n",
       "         lines                895      941       NaN           19895   \n",
       "         files                  8        3       NaN              58   \n",
       "\n",
       "                     skywalker-docs SebastianSlackBot mfxRobotVal3  \n",
       "language info                                                       \n",
       "Python   blanks                 NaN                33          NaN  \n",
       "         comments               NaN                43          NaN  \n",
       "         linesOfCode            NaN               294          NaN  \n",
       "         lines                  NaN               370          NaN  \n",
       "         files                  NaN                 3          NaN  \n",
       "\n",
       "[5 rows x 293 columns]"
      ]
     },
     "execution_count": 3,
     "metadata": {},
     "output_type": "execute_result"
    }
   ],
   "source": [
    "df.head()"
   ]
  },
  {
   "attachments": {},
   "cell_type": "markdown",
   "metadata": {},
   "source": [
    "# Example Queries"
   ]
  },
  {
   "cell_type": "code",
   "execution_count": 4,
   "metadata": {},
   "outputs": [
    {
     "name": "stdout",
     "output_type": "stream",
     "text": [
      "language          info       \n",
      "Python            blanks          2978\n",
      "                  comments        3470\n",
      "                  linesOfCode    35966\n",
      "                  lines          42414\n",
      "                  files            148\n",
      "JSON              blanks             0\n",
      "                  comments           0\n",
      "                  linesOfCode        1\n",
      "                  lines              1\n",
      "                  files              1\n",
      "BASH              blanks             3\n",
      "                  comments           2\n",
      "                  linesOfCode        5\n",
      "                  lines             10\n",
      "                  files              1\n",
      "Total             blanks          3877\n",
      "                  comments        3493\n",
      "                  linesOfCode    39797\n",
      "                  lines          47167\n",
      "                  files            187\n",
      "Markdown          blanks            45\n",
      "                  comments           0\n",
      "                  linesOfCode      152\n",
      "                  lines            197\n",
      "                  files              4\n",
      "Plain Text        blanks             0\n",
      "                  comments           0\n",
      "                  linesOfCode       33\n",
      "                  lines             33\n",
      "                  files              4\n",
      "YAML              blanks            11\n",
      "                  comments          10\n",
      "                  linesOfCode      106\n",
      "                  lines            127\n",
      "                  files              5\n",
      "Shell             blanks            10\n",
      "                  comments           2\n",
      "                  linesOfCode       27\n",
      "                  lines             39\n",
      "                  files              2\n",
      "TOML              blanks            13\n",
      "                  comments           0\n",
      "                  linesOfCode       37\n",
      "                  lines             50\n",
      "                  files              1\n",
      "Makefile          blanks             5\n",
      "                  comments           6\n",
      "                  linesOfCode       14\n",
      "                  lines             25\n",
      "                  files              1\n",
      "gitignore         blanks             4\n",
      "                  comments           3\n",
      "                  linesOfCode       13\n",
      "                  lines             20\n",
      "                  files              1\n",
      "ReStructuredText  blanks           808\n",
      "                  comments           0\n",
      "                  linesOfCode     3434\n",
      "                  lines           4242\n",
      "                  files             18\n",
      "Autoconf          blanks             0\n",
      "                  comments           0\n",
      "                  linesOfCode        9\n",
      "                  lines              9\n",
      "                  files              1\n"
     ]
    }
   ],
   "source": [
    "#: to get a repo's information\n",
    "print(df['pcdsdevices'].dropna().to_string())"
   ]
  },
  {
   "cell_type": "code",
   "execution_count": 26,
   "metadata": {},
   "outputs": [
    {
     "name": "stderr",
     "output_type": "stream",
     "text": [
      "/var/folders/91/rlnvp0jx0k38f1bb_srbk_fn472fqf/T/ipykernel_31994/3181602797.py:5: PerformanceWarning: dropping on a non-lexsorted multi-index without a level parameter may impact performance.\n",
      "  sum_df.drop(labels='Total', inplace=True)\n",
      "/var/folders/91/rlnvp0jx0k38f1bb_srbk_fn472fqf/T/ipykernel_31994/3181602797.py:20: UserWarning: Matplotlib is currently using module://matplotlib_inline.backend_inline, which is a non-GUI backend, so cannot show the figure.\n",
      "  fig.show()\n"
     ]
    },
    {
     "data": {
      "image/png": "[encoded data removed]",
      "text/plain": [
       "<Figure size 640x480 with 1 Axes>"
      ]
     },
     "metadata": {},
     "output_type": "display_data"
    }
   ],
   "source": [
    "#: flatten on reponame\n",
    "# Sum across columns\n",
    "sum_df = df.sum(axis=1, skipna=True)\n",
    "# drop total\n",
    "sum_df.drop(labels='Total', inplace=True)\n",
    "total_loc = sum_df.sum()\n",
    "# Plot as piechart\n",
    "fig, ax = plt.subplots()\n",
    "lang_names = sum_df.index.get_level_values('language').unique()\n",
    "values = sum_df.loc[(slice(None), \"linesOfCode\")] \n",
    "labels = [f'{name}' if sum_df.loc[(name, \"linesOfCode\")]/total_loc > 0.005 else '' \n",
    "          for name in lang_names]\n",
    "\n",
    "patches, texts = ax.pie(sum_df.loc[(slice(None),'linesOfCode')], labels=labels,\n",
    "                        rotatelabels=True)\n",
    "patches, labels, dummy =  zip(*sorted(zip(patches, labels, values),\n",
    "                                        key=lambda x: x[2],\n",
    "                                        reverse=True))\n",
    "\n",
    "fig.show()"
   ]
  },
  {
   "cell_type": "code",
   "execution_count": 15,
   "metadata": {},
   "outputs": [
    {
     "data": {
      "text/plain": [
       "4267460"
      ]
     },
     "execution_count": 15,
     "metadata": {},
     "output_type": "execute_result"
    }
   ],
   "source": [
    "sum_df.sum()"
   ]
  },
  {
   "cell_type": "code",
   "execution_count": 32,
   "metadata": {},
   "outputs": [
    {
     "name": "stdout",
     "output_type": "stream",
     "text": [
      "Top 20 C++ repos by lines of code\n"
     ]
    }
   ],
   "source": [
    "# pick a language and sort repos highest to lowest\n",
    "lang = 'C++'\n",
    "print(f'Top 20 {lang} repos by lines of code')\n",
    "df.loc[lang, 'linesOfCode'].dropna().sort_values(ascending=False).head(10).to_clipboard()"
   ]
  },
  {
   "cell_type": "code",
   "execution_count": 16,
   "metadata": {},
   "outputs": [
    {
     "data": {
      "text/plain": [
       "0.00238221330721319"
      ]
     },
     "execution_count": 16,
     "metadata": {},
     "output_type": "execute_result"
    }
   ],
   "source": [
    "10166/4267460"
   ]
  },
  {
   "cell_type": "code",
   "execution_count": 29,
   "metadata": {},
   "outputs": [
    {
     "name": "stderr",
     "output_type": "stream",
     "text": [
      "/var/folders/91/rlnvp0jx0k38f1bb_srbk_fn472fqf/T/ipykernel_31994/2632062198.py:5: PerformanceWarning: dropping on a non-lexsorted multi-index without a level parameter may impact performance.\n",
      "  sum_df.drop(labels='Total', inplace=True)\n"
     ]
    },
    {
     "data": {
      "text/plain": [
       "language\n",
       "Plain Text          784694\n",
       "Python              550070\n",
       "C++                  94294\n",
       "JSON                 75028\n",
       "JavaScript           62236\n",
       "HTML                 41661\n",
       "ReStructuredText     32501\n",
       "XML                  28176\n",
       "C++ Header           28155\n",
       "YAML                 23327\n",
       "Batch                17604\n",
       "Markdown             14720\n",
       "Jupyter              13054\n",
       "C Header             11564\n",
       "C                     9669\n",
       "Shell                 9216\n",
       "BASH                  7663\n",
       "gitignore             6559\n",
       "Go                    6206\n",
       "SVG                   5975\n",
       "dtype: object"
      ]
     },
     "execution_count": 29,
     "metadata": {},
     "output_type": "execute_result"
    }
   ],
   "source": [
    "# Top 5 languages, by LOC\n",
    "# Sum across columns\n",
    "sum_df = df.sum(axis=1, skipna=True)\n",
    "# drop total\n",
    "sum_df.drop(labels='Total', inplace=True)\n",
    "\n",
    "sum_df[(slice(None), 'linesOfCode')].sort_values(ascending=False).head(20)\n"
   ]
  },
  {
   "cell_type": "code",
   "execution_count": null,
   "metadata": {},
   "outputs": [],
   "source": [
    "# number of languages per repo"
   ]
  }
 ],
 "metadata": {
  "kernelspec": {
   "display_name": "loc",
   "language": "python",
   "name": "python3"
  },
  "language_info": {
   "codemirror_mode": {
    "name": "ipython",
    "version": 3
   },
   "file_extension": ".py",
   "mimetype": "text/x-python",
   "name": "python",
   "nbconvert_exporter": "python",
   "pygments_lexer": "ipython3",
   "version": "3.11.3"
  },
  "orig_nbformat": 4
 },
 "nbformat": 4,
 "nbformat_minor": 2
}
